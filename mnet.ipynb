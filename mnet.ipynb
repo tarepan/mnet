{
  "nbformat": 4,
  "nbformat_minor": 0,
  "metadata": {
    "colab": {
      "name": "mnet.ipynb",
      "version": "0.3.2",
      "provenance": [],
      "toc_visible": true
    },
    "kernelspec": {
      "name": "python3",
      "display_name": "Python 3"
    },
    "accelerator": "GPU"
  },
  "cells": [
    {
      "metadata": {
        "id": "k3kIjCpcdUa5",
        "colab_type": "text"
      },
      "cell_type": "markdown",
      "source": [
        "## Download mnet"
      ]
    },
    {
      "metadata": {
        "id": "RuuKdgQrbqoM",
        "colab_type": "code",
        "colab": {}
      },
      "cell_type": "code",
      "source": [
        "!rm mnet -r\n",
        "!git clone https://github.com/tarepan/mnet.git"
      ],
      "execution_count": 0,
      "outputs": []
    },
    {
      "metadata": {
        "id": "GSBKcsQld9eq",
        "colab_type": "text"
      },
      "cell_type": "markdown",
      "source": [
        "## Install dependencies"
      ]
    },
    {
      "metadata": {
        "id": "KBMc06lxduOa",
        "colab_type": "code",
        "colab": {}
      },
      "cell_type": "code",
      "source": [
        "# ref: https://qiita.com/pomcho555/items/4f5d38ff11e2125e0c94\n",
        "!python --version\n",
        "!ls /usr/lib/x86_64-linux-gnu/libcuda*"
      ],
      "execution_count": 0,
      "outputs": []
    },
    {
      "metadata": {
        "id": "zGLNDVx-dwaU",
        "colab_type": "code",
        "colab": {}
      },
      "cell_type": "code",
      "source": [
        "!pip install http://download.pytorch.org/whl/cu80/torch-0.4.1-cp36-cp36m-linux_x86_64.whl\n",
        "!pip install torchvision\n",
        "!pip install tensorboardX"
      ],
      "execution_count": 0,
      "outputs": []
    },
    {
      "metadata": {
        "id": "4I5uTqhJdyV-",
        "colab_type": "code",
        "colab": {}
      },
      "cell_type": "code",
      "source": [
        "!wget https://bin.equinox.io/c/4VmDzA7iaHb/ngrok-stable-linux-amd64.zip\n",
        "!unzip ngrok-stable-linux-amd64.zip"
      ],
      "execution_count": 0,
      "outputs": []
    },
    {
      "metadata": {
        "id": "pHlhQIfYd18t",
        "colab_type": "code",
        "colab": {}
      },
      "cell_type": "code",
      "source": [
        "LOG_DIR = \"./log\"\n",
        "get_ipython().system_raw(\n",
        "  'tensorboard --logdir {} --host 0.0.0.0 --port 6006 &'\n",
        "  .format(LOG_DIR)\n",
        ")\n",
        "get_ipython().system_raw(\"./ngrok http 6006 &\")\n",
        "!curl -s http://localhost:4040/api/tunnels | python3 -c \\\n",
        "    \"import sys, json; print(json.load(sys.stdin)['tunnels'][0]['public_url'])\""
      ],
      "execution_count": 0,
      "outputs": []
    },
    {
      "metadata": {
        "id": "4WZoH8WCd6fB",
        "colab_type": "text"
      },
      "cell_type": "markdown",
      "source": [
        "## Run mnet"
      ]
    },
    {
      "metadata": {
        "id": "ciGHs8Jjei5-",
        "colab_type": "text"
      },
      "cell_type": "markdown",
      "source": [
        "Check the ongoing neural network process with TensorBoardX!\n",
        "1. run below cell\n",
        "2. go to link above (ngrok.io)\n",
        "3. see the ongoing nn process"
      ]
    },
    {
      "metadata": {
        "id": "N6cWlHO0b8P6",
        "colab_type": "code",
        "colab": {}
      },
      "cell_type": "code",
      "source": [
        "from mnet.main import main\n",
        "main()"
      ],
      "execution_count": 0,
      "outputs": []
    }
  ]
}